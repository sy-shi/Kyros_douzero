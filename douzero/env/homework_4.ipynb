{
 "cells": [
  {
   "cell_type": "markdown",
   "id": "c01bb7a2",
   "metadata": {},
   "source": [
    "# 大数据分析与机器智能（ME237） 第四次作业\n",
    "分值：5分\n",
    "\n",
    "评分标准：代码完成度。仅完善（*）标记的代码块即可。 \n",
    "\n",
    "提交说明：将本文件上传至canvas。\n",
    "\n",
    "截止日期：4月27日 23:59"
   ]
  },
  {
   "cell_type": "markdown",
   "id": "0978d87a",
   "metadata": {},
   "source": [
    "### 完善个人信息（*）"
   ]
  },
  {
   "cell_type": "code",
   "execution_count": 1,
   "id": "5e7e4ee0",
   "metadata": {},
   "outputs": [],
   "source": [
    "student_name = '史枢洋'\n",
    "student_id = '519021910397'"
   ]
  },
  {
   "cell_type": "markdown",
   "id": "3674ed3d",
   "metadata": {},
   "source": [
    "## 导入需要使用的包"
   ]
  },
  {
   "cell_type": "code",
   "execution_count": 1,
   "id": "2decdd96",
   "metadata": {},
   "outputs": [],
   "source": [
    "import pandas as pd\n",
    "import numpy as np"
   ]
  },
  {
   "cell_type": "markdown",
   "id": "6b99898b",
   "metadata": {},
   "source": [
    "## 从零开始实现决策树算法（*）\n",
    "教材算法5.2和算法5.3其实是有漏洞的，下述代码对该漏洞进行了补充，尝试找一下下面的代码比书上的算法多了什么？可以写在最后的反馈里。"
   ]
  },
  {
   "cell_type": "code",
   "execution_count": 20,
   "id": "87f560ca",
   "metadata": {},
   "outputs": [],
   "source": [
    "class DecisionTreeClassifier:\n",
    "    def __init__(self, feature_names=None, method='info_gain', threshold=0.0):\n",
    "        \"\"\"\n",
    "        决策树。根据method选择的不同可以使用ID3算法和C4.5算法。\n",
    "\n",
    "        :param feature_names: 制定决策树划分所设计的特征名。\n",
    "        :param method: info_gain(ID3算法)或者info_gain_ratio(C4.5算法)\n",
    "        :param threshold: 停止生长的阈值\n",
    "        \"\"\"\n",
    "        self.feature_names = feature_names\n",
    "        self.method = method\n",
    "        self.threshold = threshold\n",
    "        self.tree = {}\n",
    "\n",
    "    # 熵\n",
    "    @staticmethod\n",
    "    def entropy(y: np.ndarray):\n",
    "        N = len(y)\n",
    "        count = []\n",
    "        for value in set(y):\n",
    "            count.append(len(y[y == value]))\n",
    "        count = np.array(count)\n",
    "        entro = -np.sum((count / N) * (np.log2(count / N)))\n",
    "        return entro\n",
    "\n",
    "    def cond_entropy(self, X: np.ndarray, y: np.ndarray, cond: int):\n",
    "        \"\"\"\n",
    "        计算条件熵。\n",
    "\n",
    "        :param X: 特征数据\n",
    "        :param y: 标签数据\n",
    "        :param cond: 条件的索引,例如1表示第一列数据\n",
    "        :return: 条件熵\n",
    "        \"\"\"\n",
    "        x = X[:,cond]\n",
    "        cond_entro = 0\n",
    "        for value_x in set(x):\n",
    "            prob_x = len(x[x==value_x])/len(x)\n",
    "            entro = 0\n",
    "            for value_y in set(y):\n",
    "                count = 0\n",
    "                for ind in range(0,len(x)):\n",
    "                    if (x[ind]==value_x) and (y[ind]==value_y):\n",
    "                        count = count+1\n",
    "                probyx = count/len(x[x==value_x])\n",
    "                if probyx == 0:\n",
    "                    entro = 0\n",
    "                else:\n",
    "                    entro = entro - probyx*np.log2(probyx)\n",
    "            cond_entro = cond_entro + prob_x*entro\n",
    "        return cond_entro\n",
    "\n",
    "    def info_gain(self, X: np.ndarray, y: np.ndarray, cond: int):\n",
    "        \"\"\"\n",
    "        计算信息增益。\n",
    "\n",
    "        :param X: 特征数据\n",
    "        :param y: 标签数据\n",
    "        :param cond: 条件的索引,例如1表示第一列数据\n",
    "        :return: 信息增益\n",
    "        \"\"\"\n",
    "        result = self.entropy(y) - self.cond_entropy(X, y, cond)\n",
    "        return result\n",
    "\n",
    "    def info_gain_ratio(self, X: np.ndarray, y: np.ndarray, cond: int):\n",
    "        \"\"\"\n",
    "        计算信息增益比。\n",
    "\n",
    "        :param X: 特征数据\n",
    "        :param y: 标签数据\n",
    "        :param cond: 条件的索引,例如1表示第一列数据\n",
    "        :return: 信息增益比\n",
    "        \"\"\"\n",
    "        result = self.info_gain(X,y,cond)/self.entropy(X[:,cond])\n",
    "        return result\n",
    "\n",
    "    def best_split(self, X: np.ndarray, y: np.ndarray):\n",
    "        \"\"\"根据method指定的方法使用信息增益或信息增益比来计算各个维度的最大信息增益(比),返回特征的axis\"\"\"\n",
    "        _, M = X.shape\n",
    "        info_gains = []\n",
    "        if self.method == 'info_gain':\n",
    "            split = self.info_gain\n",
    "        elif self.method == 'info_gain_ratio':\n",
    "            split = self.info_gain_ratio\n",
    "        else:\n",
    "            raise NameError('指定的方法{}不在可接受的范围内。可接受的参数有info_gain以及info_gain_ratio'.format(self.method))\n",
    "        for i in range(M):\n",
    "            tmp_gain = split(X, y, i)\n",
    "            info_gains.append(tmp_gain)\n",
    "        if max(info_gains) < self.threshold:\n",
    "            return 'STOP'\n",
    "        best_feature = np.argmax(info_gains)\n",
    "        return best_feature\n",
    "\n",
    "    @staticmethod\n",
    "    def majority_count(y):\n",
    "        \"\"\"返回类别数最多的类别\"\"\"\n",
    "        unique, counts = np.unique(y, return_counts=True)\n",
    "        max_idx = np.argmax(counts)\n",
    "        return unique[max_idx]\n",
    "\n",
    "    def fit(self, X, y):\n",
    "        \"\"\"\n",
    "        训练模型。\n",
    "\n",
    "        :param X: 特征数据\n",
    "        :param y: 标签数据\n",
    "        :return: 无\n",
    "        \"\"\"\n",
    "        self.tree = self._train_decision_tree(X, y, self.feature_names)\n",
    "\n",
    "    def _train_decision_tree(self, X: np.ndarray, y: np.ndarray, feature_names: list):\n",
    "        \"\"\"\n",
    "        训练决策（子）树。\n",
    "\n",
    "        :param X: 特征数据\n",
    "        :param y: 标签数据\n",
    "        :param feature_names: 特征名\n",
    "        :return: （子）决策树\n",
    "        \"\"\"\n",
    "        feature_names = feature_names.copy()\n",
    "        M, N = X.shape\n",
    "        if len(np.unique(y)) == 1:  # 如果已经得到了完全一样的结果，不必细分了\n",
    "            return y[0]\n",
    "\n",
    "        X_feature_unique = [len(set(X[:, i])) for i in range(N)]\n",
    "        if len(set(X_feature_unique)) == 1 and 1 in X_feature_unique:  # 如果X已经没有区分度了，也不必细分了\n",
    "            return self.majority_count(y)\n",
    "\n",
    "        if N == 0:  # 如果可以用的特征已经分完了，不必继续了\n",
    "            return self.majority_count(y)\n",
    "\n",
    "        best_split_index = self.best_split(X, y)\n",
    "        if best_split_index == 'STOP':  # 达到阈值，不再细分\n",
    "            return self.majority_count(y)\n",
    "\n",
    "        best_feature_label = feature_names[best_split_index]\n",
    "        tree = {best_feature_label: {}}\n",
    "        del (feature_names[best_split_index])\n",
    "\n",
    "        feature_values = np.unique(X[:, best_split_index])\n",
    "        for val in feature_values:\n",
    "            idx = np.where(X[:, best_split_index] == val)\n",
    "            sub_X = np.delete(X, best_split_index, axis=1)[idx]\n",
    "            sub_y = y[idx]\n",
    "            sub_labels = feature_names\n",
    "            tree[best_feature_label][val] = self._train_decision_tree(sub_X, sub_y, sub_labels)  # 递归求解\n",
    "        return tree\n",
    "\n",
    "    def predict(self, X: np.ndarray):\n",
    "        \"\"\"\n",
    "        预测模型。\n",
    "\n",
    "        :param X: 特征数据\n",
    "        :return: 预测结果\n",
    "        \"\"\"\n",
    "        y = []\n",
    "        for x in X:\n",
    "            y.append(self._decision_tree_predict_instance(list(x), self.tree, self.feature_names))\n",
    "        return np.array(y)\n",
    "\n",
    "    def _decision_tree_predict_instance(self, x: list, tree: dict, feature_names: list):\n",
    "        \"\"\"\n",
    "        预测单个实例结果。\n",
    "\n",
    "        :param x: 实例数据,list\n",
    "        :param tree: 决策(子）树\n",
    "        :param feature_names: 特征标签\n",
    "        :return: 单个实例预测结果\n",
    "        \"\"\"\n",
    "        if isinstance(tree, np.int64):  # 如果根节点就是叶节点的话\n",
    "            return tree\n",
    "        x = x.copy()\n",
    "        feature_names = feature_names.copy()\n",
    "        current_label = list(tree.keys())[0]\n",
    "        idx = feature_names.index(current_label)\n",
    "        feature_value = x[idx]\n",
    "        if feature_value not in tree[current_label].keys():\n",
    "            return 0  # 在测试集上碰到了没有见过的类型，就预测训练集上比例比较大的\n",
    "        sub_tree = tree[current_label][feature_value]\n",
    "        if isinstance(sub_tree, np.int64):\n",
    "            return sub_tree\n",
    "        else:\n",
    "            x.pop(idx)\n",
    "            feature_names.pop(idx)\n",
    "            result = self._decision_tree_predict_instance(x, sub_tree, feature_names)\n",
    "        return result"
   ]
  },
  {
   "cell_type": "markdown",
   "id": "1085e189",
   "metadata": {},
   "source": [
    "## 应用决策树模型\n",
    "在Titanic数据集上，使用建立决策树模型，对乘客生存进行预测。模型需在训练集（train.csv）上训练后，对测试集（test.csv）进行预测，仿照gender_submission.csv格式输出预测结果。\n",
    "\n",
    "数据集相关的介绍参见作业3。"
   ]
  },
  {
   "cell_type": "markdown",
   "id": "1e503942",
   "metadata": {},
   "source": [
    "### 数据读取与预处理"
   ]
  },
  {
   "cell_type": "code",
   "execution_count": 21,
   "id": "41f63c52",
   "metadata": {},
   "outputs": [],
   "source": [
    "# **如有需要，本部分内容可以进行更改**\n",
    "def class_age(x):\n",
    "    if x < 25:\n",
    "        return 1\n",
    "    elif x < 50:\n",
    "        return 2\n",
    "    else:\n",
    "        return 3\n",
    "\n",
    "\n",
    "def data_preprocessing(_data):\n",
    "    # 对缺失值进行填充\n",
    "    age_average = _data['Age'].mean()\n",
    "    _data['Age'].fillna(age_average, inplace=True)\n",
    "    _data['Embarked'].fillna('N', inplace=True)\n",
    "    # 将连续值进行切段\n",
    "    _data['Age'] = _data['Age'].apply(lambda x: class_age(x))\n",
    "    # 将文本替换为数字\n",
    "    data_encode = {'Sex': {'male': 0, 'female': 1}, 'Embarked': {'C': 0, 'S': 1, 'Q': 2, 'N': 3}}\n",
    "    for column, column_code in data_encode.items():\n",
    "        _data[column] = _data[column].apply(lambda x: column_code[x])\n",
    "    return _data\n",
    "\n",
    "\n",
    "# 数据读取\n",
    "train_data = pd.read_csv('train.csv')\n",
    "\n",
    "# 数据预处理\n",
    "train_data = data_preprocessing(train_data)\n",
    "\n",
    "target = 'Survived'"
   ]
  },
  {
   "cell_type": "markdown",
   "id": "a2134ce2",
   "metadata": {},
   "source": [
    "### 确定模型参数并训练模型（*）\n",
    "模型有三个参数需要同学们确定，分别是feature_names（使用的特征），method（方法）以及threshold（阈值）。同学们需要对训练集进行进一步划分，通过验证集上的结果对method及threshold两个参数进行确定。\n",
    "\n",
    "**参数值可以通过设计代码自动计算获得，也可以是设计实验改变参数重复实验后记录结果然后选取。如果选择第二种方法，需要将实验结果截图后粘贴在下方。直接给出参数的取值会被扣分。如有需要feature_names也可调整。**\n",
    "\n",
    "提示：sklearn包里面的一些方法例如train_test_split可以使用"
   ]
  },
  {
   "cell_type": "code",
   "execution_count": 22,
   "id": "4ba5e856",
   "metadata": {},
   "outputs": [],
   "source": [
    "# 模型参数\n",
    "features = ['Pclass', 'Sex', 'Age', 'SibSp', 'Parch']\n",
    "method = 'info_gain_ratio'\n",
    "# method = 'info_gain'\n",
    "threshold = 0.05\n",
    "X_train, y_train = train_data[features].values, train_data[target].values\n",
    "my_tree = DecisionTreeClassifier(feature_names=features, method=method, threshold=threshold)\n",
    "my_tree.fit(X_train, y_train)"
   ]
  },
  {
   "cell_type": "markdown",
   "id": "61e0d531",
   "metadata": {},
   "source": [
    "### 在训练集上进行预测"
   ]
  },
  {
   "cell_type": "code",
   "execution_count": 23,
   "id": "adf5cdea",
   "metadata": {},
   "outputs": [],
   "source": [
    "test_data = pd.read_csv('test.csv')\n",
    "test_data = data_preprocessing(test_data)\n",
    "X_test = test_data[features].values\n",
    "y_test_predict = my_tree.predict(X_test)\n",
    "test_data['Survived'] = y_test_predict\n",
    "test_data[['PassengerId', 'Survived']].to_csv('test_predict.csv', index=False)"
   ]
  },
  {
   "attachments": {
    "image-2.png": {
     "image/png": "[encoded data removed]"
    }
   },
   "cell_type": "markdown",
   "id": "e29ae969",
   "metadata": {},
   "source": [
    "### 提交预测结果（*）\n",
    "将生成的test_predict.csv文件提交至[kaggle网站](https://www.kaggle.com/competitions/titanic/submit)，查看自身排名。双击本文本块进入编辑模式后，ctrl+v将个人成绩排名截图粘贴至此。例如：\n",
    "\n",
    "![rank.png](rank.png)\n",
    "Kaggle成绩前10的同学将会在群里进行表扬，并有机会获得小礼物。没有kaggle成绩不扣分。"
   ]
  },
  {
   "cell_type": "markdown",
   "id": "555cde8f",
   "metadata": {},
   "source": [
    "## 作业调查（*）"
   ]
  },
  {
   "cell_type": "code",
   "execution_count": null,
   "id": "a909b96c",
   "metadata": {},
   "outputs": [],
   "source": [
    "kaggle_score = 0.77511  # 提交到kaggle网站后给出的准确度，注意不是最佳成绩。\n",
    "time_used = 1  # 本次作业花费的时间，单位小时\n",
    "difficulty_assessment = 4  # 作业难度评价，1为非常简单，10为非常困难\n",
    "feedback = '本次作业需要自行动手编程的地方较少,但决策树生成代码值得细致理解'  # 对本次作业或者课堂内容的反馈，任何想说的话"
   ]
  }
 ],
 "metadata": {
  "interpreter": {
   "hash": "5dfae695991f40f7f711b859ebe4404a578ce2940a1c2f7058c1cb98bd497b2c"
  },
  "kernelspec": {
   "display_name": "Python 3.8.3 ('base')",
   "language": "python",
   "name": "python3"
  },
  "language_info": {
   "codemirror_mode": {
    "name": "ipython",
    "version": 3
   },
   "file_extension": ".py",
   "mimetype": "text/x-python",
   "name": "python",
   "nbconvert_exporter": "python",
   "pygments_lexer": "ipython3",
   "version": "3.8.3"
  },
  "toc": {
   "base_numbering": 1,
   "nav_menu": {},
   "number_sections": true,
   "sideBar": true,
   "skip_h1_title": false,
   "title_cell": "Table of Contents",
   "title_sidebar": "Contents",
   "toc_cell": false,
   "toc_position": {},
   "toc_section_display": true,
   "toc_window_display": true
  },
  "varInspector": {
   "cols": {
    "lenName": 16,
    "lenType": 16,
    "lenVar": 40
   },
   "kernels_config": {
    "python": {
     "delete_cmd_postfix": "",
     "delete_cmd_prefix": "del ",
     "library": "var_list.py",
     "varRefreshCmd": "print(var_dic_list())"
    },
    "r": {
     "delete_cmd_postfix": ") ",
     "delete_cmd_prefix": "rm(",
     "library": "var_list.r",
     "varRefreshCmd": "cat(var_dic_list()) "
    }
   },
   "types_to_exclude": [
    "module",
    "function",
    "builtin_function_or_method",
    "instance",
    "_Feature"
   ],
   "window_display": false
  }
 },
 "nbformat": 4,
 "nbformat_minor": 5
}
